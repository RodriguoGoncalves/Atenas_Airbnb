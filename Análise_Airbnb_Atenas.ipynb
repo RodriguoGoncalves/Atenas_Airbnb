{
  "nbformat": 4,
  "nbformat_minor": 0,
  "metadata": {
    "colab": {
      "name": "Análise_Airbnb_Atenas",
      "provenance": [],
      "collapsed_sections": [],
      "toc_visible": true,
      "authorship_tag": "ABX9TyPXyF2s4J07thLpcNCCo7zT",
      "include_colab_link": true
    },
    "kernelspec": {
      "name": "python3",
      "display_name": "Python 3"
    },
    "language_info": {
      "name": "python"
    }
  },
  "cells": [
    {
      "cell_type": "markdown",
      "metadata": {
        "id": "view-in-github",
        "colab_type": "text"
      },
      "source": [
        "<a href=\"https://colab.research.google.com/github/RodriguoGoncalves/Atenas_Airbnb/blob/main/An%C3%A1lise_Airbnb_Atenas.ipynb\" target=\"_parent\"><img src=\"https://colab.research.google.com/assets/colab-badge.svg\" alt=\"Open In Colab\"/></a>"
      ]
    },
    {
      "cell_type": "markdown",
      "source": [
        "<img alt=\"Colaboratory logo\" width=\"75%\" src=\"https://github.com/RodriguoGoncalves/Sigmoidal_data_science/blob/main/banner2.png?raw=true\">\n",
        "\n",
        "#### ***Análise Exploratória de Dados do Airbnb***\n",
        "*by Rodrigo Gonçalves* ([Github](https://github.com/RodriguoGoncalves/Sigmoidal_data_science), [Linkedin](https://www.linkedin.com/in/rodrigo-gon%C3%A7alves-a22b6012a//), [Medium](https://medium.com/@rodriguogoncalves) )\n",
        "\n",
        "---\n",
        "\n",
        "# ***Análise dos Dados do Airbnb - Atenas, Grécia***\n",
        "\n",
        "\n",
        "o  [Airbnb](https://www.airbnb.com.br/)  é considerado como sendo a **maior empresa hoteleira da atualidade** mesmo **sem possuir hotel algum!** \n",
        "\n",
        "Fundado a partir de um momento de dificuldade de seus fundadores-[Brian Chesky](https://github.com/RodriguoGoncalves/Atenas_Airbnb/blob/main/Brian_Chesky.jpg?raw=true) e [Joe Gebbia](https://github.com/RodriguoGoncalves/Atenas_Airbnb/blob/main/Joe_Gebbia.jpg?raw=true)-, que não tinham dinheiro para pagar o aluguel e aproveitaram um evento de designers que completou a lotação dos hotéis da cidade de São Francisco para ter a ideia de alugar *3 colchões* de ***ar***   no chão e oferecer ***café da manhã*** (***Air  = ar*** + ***Bnb \"bed and breakfast\" = cama e café da manhã***  )\n",
        "\n",
        "\n",
        "\n",
        "\n",
        "<center><img alt=\"Logo_Airbnb\" width=\"25%\" src=\"https://www.area360.com.au/wp-content/uploads/2017/09/airbnb-logo.jpg\"></center>\n",
        "\n",
        "\n",
        "No momento em que se encontra esta versão-**12/2021**-, a Startup criada em 2007, conta com  **4 milhões de anfitriões**  que ja receberam mais de **1 bilhão de hóspedes** em quase todos os países do mundo.\n",
        "\n",
        "Uma das iniciativas do Airbnb é disponibilizar dados do site, para algumas das principais cidades do mundo. Por meio do portal [Inside Airbnb](http://insideairbnb.com/get-the-data.html), é possível baixar uma grande quantidade de dados para desenvolver projetos e soluções de *Data Science*.\n",
        "\n",
        "<center><img alt=\"Atenas_photo\" width=\"35%\" src=\"https://d2yfnz5to9nvdi.cloudfront.net/wp-content/uploads/2018/02/passagens-aereas-promocionais-executiva-swiss-air-europa-grecia-atenas-voe-simples-promocoes-sdppart.jpg\"></center>\n",
        "\n",
        "**Neste *notebook*, iremos analisar os dados referentes à cidade de Atenas, e ver quais insights podem ser extraídos a partir de dados brutos.**"
      ],
      "metadata": {
        "id": "S1mQavud7RFt"
      }
    },
    {
      "cell_type": "markdown",
      "source": [
        "## ***Obtenção dos Dados***\n",
        "\n",
        "Todos os dados usados aqui foram obtidos a partir do site [Inside Airbnb](http://insideairbnb.com/get-the-data.html). Neste site é possível obter dados, informações, listas e arquivos que formam um conjunto de recursos conforme consta na [imagem](https://github.com/RodriguoGoncalves/Atenas_Airbnb/blob/main/Grecia_Inside.PNG?raw=true).\n",
        "\n",
        "Para esta análise exploratória inicial, será baixado apenas o seguinte arquivo:\n",
        "\n",
        "* `listings.csv` - *Summary information and metrics for listings in Athens (good for visualisations).*\n",
        "\n",
        "Importante: O portal está em constante evolução e, em determinado momento, pode ser que o [conjunto de dados](http://data.insideairbnb.com/greece/attica/athens/2021-10-25/visualisations/listings.csv) exato utilizado nesse notebook não esteja mais disponível, o que quebraria nosso código.\n",
        "\n",
        "Pensando nisso, disponibilizamos [aqui](https://drive.google.com/file/d/1FpAlfnlxpm1rhGrY3wD6kuN5Nm0yVj_y/view?usp=sharing) o conjunto que utilizamos, para que você sempre consiga utilizar esse material.\n",
        "\n",
        "Com isso em mente, vamos ao projeto.\n",
        "<center><img alt=\"Logo_Airbnb\" width=\"35%\" src=\"https://exame.com/wp-content/uploads/2016/09/size_960_16_9_cavaleiros-do-zodiaco1.jpg\"></center>"
      ],
      "metadata": {
        "id": "L-ca9AB5zhQx"
      }
    },
    {
      "cell_type": "markdown",
      "source": [
        "###***Instalações de Pacotes (Explicação)***\n",
        "\n",
        "* ***!pip install plotly==5.5.0*** >>  é uma biblioteca de plotagem interativa de código aberto que oferece suporte a mais de 40 tipos de gráficos exclusivos, cobrindo uma ampla variedade de casos de uso estatísticos, financeiros, geográficos, científicos e tridimensionais."
      ],
      "metadata": {
        "id": "I_A9oBo-Sews"
      }
    },
    {
      "cell_type": "code",
      "source": [
        "                    #Instalações de Pacotes (Execução)\n",
        "\n",
        "#!pip install plotly==5.5.0\n",
        "#!pip install forex-python"
      ],
      "metadata": {
        "id": "YM5t_w8-Tgzb"
      },
      "execution_count": null,
      "outputs": []
    },
    {
      "cell_type": "markdown",
      "source": [
        "###***Importações (Explicação)***\n",
        "\n",
        "* ***import pandas as pd*** >> é uma biblioteca de software criada para a linguagem Python para manipulação e análise de dados. Em particular, oferece estruturas e operações para manipular tabelas numéricas e séries temporais. Para aprofundamento, [clique aqui](https://medium.com/tech-grupozap/introdu%C3%A7%C3%A3o-a-biblioteca-pandas-89fa8ed4fa38).\n",
        "\n",
        "* ***import matplotlib.pyplot as plt*** >> O **Matplotlib** é uma biblioteca para a visualização de dados em Python. Ele apresenta uma API orientada a objetos que permite a criação de gráficos em 2D de uma forma simples e com poucos comandos. A ferramenta disponibiliza diversos tipos de gráficos, como em barra, em linha, em pizza, histogramas entre outras opções. O **PyPlot** é um módulo do matplotlib para criação de gráfico. Para aprofundamento, [clique aqui](https://king.host/blog/2018/03/visualizacao-de-dados-matplotlib/).\n",
        "\n",
        "\n",
        "* ***import seaborn as sns*** >> simplifica e abstrai algumas configurações de temas que seriam mais complexas do matplotlib, gerando gráficos mais atrativos com códigos mais limpos e mais simples. Para aprofundamento, [clique aqui](https://cienciadedadosuff.github.io/cursos/notebooks/caderno-3.html).\n",
        "\n",
        "* ***from plotly import graph_objects as go*** >> Os objetos plotly graph são uma interface de alto nível para plotly, que são fáceis de usar. Ele pode traçar vários tipos de gráficos e diagramas, como gráficos de dispersão, gráficos de linha, gráficos de barras, gráficos de caixa, histogramas, gráficos de pizza, etc.  Para aprofundamento, [clique aqui](https://acervolima.com/introducao-ao-plotly-python/).\n",
        "\n",
        "* ***import plotly.express as px*** >> é uma abstração de alto nível para Plotly API otimizada para funcionar perfeitamente com frames de dados. Para aprofundamento, [clique aqui](https://ichi.pro/pt/visualizacao-com-plotly-express-guia-completo-258792796523351) ou [neste link](https://plotly.com/python/plotly-express/) para acessar a biblioteca.\n",
        "\n",
        "* ***import json*** >>  é o formato mais usado para integração entre sistemas. Toda a linguagem de programação tem sua maneira de manipulá-lo. O Python tem uma biblioteca, chamada json. Para aprofundamento, [clique aqui](https://medium.com/@renatojlelis/trabalhando-com-json-no-python-1eb0f97c0c50).\n",
        "\n",
        "* ***from urllib.request import urlopen*** >> Há diversos módulos para acesso e processamento de protocolos da internet. Dois dos mais simples são *urllib.request* para efetuar download de dados a partir de URLs e *smtplib* para enviar mensagens de correio eletrônico. Para aprofundamento, [clique aqui](https://docs.python.org/pt-br/3/tutorial/stdlib.html).\n",
        "\n",
        "* ***%matplotlib inline*** >> Com esse back-end, a saída dos comandos de plotagem é exibida embutida nos front-ends, como o bloco de notas Jupyter, diretamente abaixo da célula de código que a produziu. Os gráficos resultantes também serão armazenados no documento de caderno. Para aprofundamento, [clique aqui](https://ipython.readthedocs.io/en/stable/interactive/plotting.html).\n",
        "\n"
      ],
      "metadata": {
        "id": "lmDOoBwNVJoI"
      }
    },
    {
      "cell_type": "code",
      "source": [
        "                    #Importações (Execução)\n",
        "import pandas as pd\n",
        "import matplotlib.pyplot as plt\n",
        "import seaborn as sns\n",
        "from plotly import graph_objects as go\n",
        "import plotly.express as px\n",
        "import forex_python\n",
        "import json\n",
        "from urllib.request import urlopen\n",
        "\n",
        "%matplotlib inline"
      ],
      "metadata": {
        "id": "qwf7uiHMVV2P"
      },
      "execution_count": null,
      "outputs": []
    },
    {
      "cell_type": "code",
      "source": [
        "# importar o arquivo listings.csv para um DataFrame\n",
        "df = pd.read_csv(\"http://data.insideairbnb.com/greece/attica/athens/2021-10-25/visualisations/listings.csv\")\n",
        "\n",
        "# importar arquivo com geolocalização http://data.insideairbnb.com/greece/attica/athens/2021-10-25/visualisations/neighbourhoods.geojson\n",
        "with urlopen('http://data.insideairbnb.com/greece/attica/athens/2021-10-25/visualisations/neighbourhoods.geojson') as response:\n",
        "  geo = json.load(response)"
      ],
      "metadata": {
        "id": "-ryd5k2l3SdU"
      },
      "execution_count": null,
      "outputs": []
    },
    {
      "cell_type": "markdown",
      "source": [
        "## ***Análise dos Dados***\n",
        "\n",
        "\n",
        "A finalidade desta etapa é mostrar a estrutura dos dados e dar uma visão geral das variáveis que iremos trabalhar. "
      ],
      "metadata": {
        "id": "qR6LA2AO8kDm"
      }
    },
    {
      "cell_type": "markdown",
      "source": [
        "**Dicionário das variáveis**\n",
        "\n",
        "* `id` - número de id gerado para identificar o imóvel\n",
        "* `name` - nome da propriedade anunciada\n",
        "* `host_id` - número de id do proprietário (anfitrião) da propriedade\n",
        "* `host_name` - Nome do anfitrião\n",
        "* `neighbourhood_group` - esta coluna não contém nenhum valor válido\n",
        "* `neighbourhood` - nome do bairro\n",
        "* `latitude` - coordenada da latitude da propriedade\n",
        "* `longitude` - coordenada da longitude da propriedade\n",
        "* `room_type` - informa o tipo de quarto que é oferecido\n",
        "* `price` - preço para alugar o imóvel\n",
        "* `minimum_nights` - quantidade mínima de noites para reservar\n",
        "* `number_of_reviews` - número de reviews que a propriedade possui\n",
        "* `last_review` - data do último review\n",
        "* `reviews_per_month` - quantidade de reviews por mês\n",
        "* `calculated_host_listings_count` - quantidade de imóveis do mesmo anfitrião\n",
        "* `availability_365` - número de dias de disponibilidade dentro de 365 dias\n",
        "\n",
        "Vamos verificar os traços do nosso *dataset (conjunto de dados)*, analisando as 7 primeiras entradas, de maneira prévia aos questionamentos que começaremos a fazer. "
      ],
      "metadata": {
        "id": "5UGpPgi79Da2"
      }
    },
    {
      "cell_type": "code",
      "source": [
        "# mostrar as 7 primeiras entradas\n",
        "\n",
        "df.head(7)"
      ],
      "metadata": {
        "colab": {
          "base_uri": "https://localhost:8080/",
          "height": 697
        },
        "id": "l7JXLR5L3skL",
        "outputId": "2a1f19ca-f376-4151-a11a-aaa9d312df94"
      },
      "execution_count": null,
      "outputs": [
        {
          "output_type": "execute_result",
          "data": {
            "text/html": [
              "\n",
              "  <div id=\"df-5acd72dd-b80e-4805-83c6-35526996e44d\">\n",
              "    <div class=\"colab-df-container\">\n",
              "      <div>\n",
              "<style scoped>\n",
              "    .dataframe tbody tr th:only-of-type {\n",
              "        vertical-align: middle;\n",
              "    }\n",
              "\n",
              "    .dataframe tbody tr th {\n",
              "        vertical-align: top;\n",
              "    }\n",
              "\n",
              "    .dataframe thead th {\n",
              "        text-align: right;\n",
              "    }\n",
              "</style>\n",
              "<table border=\"1\" class=\"dataframe\">\n",
              "  <thead>\n",
              "    <tr style=\"text-align: right;\">\n",
              "      <th></th>\n",
              "      <th>id</th>\n",
              "      <th>name</th>\n",
              "      <th>host_id</th>\n",
              "      <th>host_name</th>\n",
              "      <th>neighbourhood_group</th>\n",
              "      <th>neighbourhood</th>\n",
              "      <th>latitude</th>\n",
              "      <th>longitude</th>\n",
              "      <th>room_type</th>\n",
              "      <th>price</th>\n",
              "      <th>minimum_nights</th>\n",
              "      <th>number_of_reviews</th>\n",
              "      <th>last_review</th>\n",
              "      <th>reviews_per_month</th>\n",
              "      <th>calculated_host_listings_count</th>\n",
              "      <th>availability_365</th>\n",
              "      <th>number_of_reviews_ltm</th>\n",
              "      <th>license</th>\n",
              "    </tr>\n",
              "  </thead>\n",
              "  <tbody>\n",
              "    <tr>\n",
              "      <th>0</th>\n",
              "      <td>10595</td>\n",
              "      <td>96m2, 3BR, 2BA, Metro, WI-FI etc...</td>\n",
              "      <td>37177</td>\n",
              "      <td>Emmanouil</td>\n",
              "      <td>NaN</td>\n",
              "      <td>ΑΜΠΕΛΟΚΗΠΟΙ</td>\n",
              "      <td>37.98863</td>\n",
              "      <td>23.76527</td>\n",
              "      <td>Entire home/apt</td>\n",
              "      <td>79</td>\n",
              "      <td>1</td>\n",
              "      <td>32</td>\n",
              "      <td>2019-04-04</td>\n",
              "      <td>0.41</td>\n",
              "      <td>6</td>\n",
              "      <td>170</td>\n",
              "      <td>7</td>\n",
              "      <td>00000957568</td>\n",
              "    </tr>\n",
              "    <tr>\n",
              "      <th>1</th>\n",
              "      <td>10990</td>\n",
              "      <td>Athens Quality Apartments - Deluxe Apartment</td>\n",
              "      <td>37177</td>\n",
              "      <td>Emmanouil</td>\n",
              "      <td>NaN</td>\n",
              "      <td>ΑΜΠΕΛΟΚΗΠΟΙ</td>\n",
              "      <td>37.98903</td>\n",
              "      <td>23.76448</td>\n",
              "      <td>Entire home/apt</td>\n",
              "      <td>50</td>\n",
              "      <td>1</td>\n",
              "      <td>52</td>\n",
              "      <td>2016-02-22</td>\n",
              "      <td>0.72</td>\n",
              "      <td>6</td>\n",
              "      <td>361</td>\n",
              "      <td>12</td>\n",
              "      <td>00001070920</td>\n",
              "    </tr>\n",
              "    <tr>\n",
              "      <th>2</th>\n",
              "      <td>10993</td>\n",
              "      <td>Athens Quality Apartments - Studio</td>\n",
              "      <td>37177</td>\n",
              "      <td>Emmanouil</td>\n",
              "      <td>NaN</td>\n",
              "      <td>ΑΜΠΕΛΟΚΗΠΟΙ</td>\n",
              "      <td>37.98888</td>\n",
              "      <td>23.76473</td>\n",
              "      <td>Entire home/apt</td>\n",
              "      <td>38</td>\n",
              "      <td>1</td>\n",
              "      <td>71</td>\n",
              "      <td>2018-03-31</td>\n",
              "      <td>0.97</td>\n",
              "      <td>6</td>\n",
              "      <td>331</td>\n",
              "      <td>19</td>\n",
              "      <td>00000957080</td>\n",
              "    </tr>\n",
              "    <tr>\n",
              "      <th>3</th>\n",
              "      <td>10995</td>\n",
              "      <td>AQA-No2 1-bedroom, smart tv, fiber connection,</td>\n",
              "      <td>37177</td>\n",
              "      <td>Emmanouil</td>\n",
              "      <td>NaN</td>\n",
              "      <td>ΑΜΠΕΛΟΚΗΠΟΙ</td>\n",
              "      <td>37.98903</td>\n",
              "      <td>23.76448</td>\n",
              "      <td>Entire home/apt</td>\n",
              "      <td>48</td>\n",
              "      <td>1</td>\n",
              "      <td>24</td>\n",
              "      <td>2016-08-06</td>\n",
              "      <td>0.33</td>\n",
              "      <td>6</td>\n",
              "      <td>357</td>\n",
              "      <td>1</td>\n",
              "      <td>00000957422</td>\n",
              "    </tr>\n",
              "    <tr>\n",
              "      <th>4</th>\n",
              "      <td>27262</td>\n",
              "      <td>54m2, 1-br, cable tv, wi-fi, metro</td>\n",
              "      <td>37177</td>\n",
              "      <td>Emmanouil</td>\n",
              "      <td>NaN</td>\n",
              "      <td>ΑΜΠΕΛΟΚΗΠΟΙ</td>\n",
              "      <td>37.98924</td>\n",
              "      <td>23.76500</td>\n",
              "      <td>Entire home/apt</td>\n",
              "      <td>47</td>\n",
              "      <td>1</td>\n",
              "      <td>17</td>\n",
              "      <td>2017-05-15</td>\n",
              "      <td>0.23</td>\n",
              "      <td>6</td>\n",
              "      <td>208</td>\n",
              "      <td>0</td>\n",
              "      <td>00000957579</td>\n",
              "    </tr>\n",
              "    <tr>\n",
              "      <th>5</th>\n",
              "      <td>28186</td>\n",
              "      <td>❤️Deluxe central loft near Acropolis❤️</td>\n",
              "      <td>121318</td>\n",
              "      <td>Francis - Fotios</td>\n",
              "      <td>NaN</td>\n",
              "      <td>ΕΜΠΟΡΙΚΟ ΤΡΙΓΩΝΟ-ΠΛΑΚΑ</td>\n",
              "      <td>37.97545</td>\n",
              "      <td>23.72892</td>\n",
              "      <td>Entire home/apt</td>\n",
              "      <td>59</td>\n",
              "      <td>2</td>\n",
              "      <td>465</td>\n",
              "      <td>2021-09-08</td>\n",
              "      <td>4.65</td>\n",
              "      <td>2</td>\n",
              "      <td>357</td>\n",
              "      <td>10</td>\n",
              "      <td>00000264915</td>\n",
              "    </tr>\n",
              "    <tr>\n",
              "      <th>6</th>\n",
              "      <td>31155</td>\n",
              "      <td>sleep on sailing boat</td>\n",
              "      <td>133845</td>\n",
              "      <td>Irene</td>\n",
              "      <td>NaN</td>\n",
              "      <td>ΚΕΡΑΜΕΙΚΟΣ</td>\n",
              "      <td>37.97962</td>\n",
              "      <td>23.71589</td>\n",
              "      <td>Private room</td>\n",
              "      <td>39</td>\n",
              "      <td>1</td>\n",
              "      <td>0</td>\n",
              "      <td>NaN</td>\n",
              "      <td>NaN</td>\n",
              "      <td>1</td>\n",
              "      <td>0</td>\n",
              "      <td>0</td>\n",
              "      <td>NaN</td>\n",
              "    </tr>\n",
              "  </tbody>\n",
              "</table>\n",
              "</div>\n",
              "      <button class=\"colab-df-convert\" onclick=\"convertToInteractive('df-5acd72dd-b80e-4805-83c6-35526996e44d')\"\n",
              "              title=\"Convert this dataframe to an interactive table.\"\n",
              "              style=\"display:none;\">\n",
              "        \n",
              "  <svg xmlns=\"http://www.w3.org/2000/svg\" height=\"24px\"viewBox=\"0 0 24 24\"\n",
              "       width=\"24px\">\n",
              "    <path d=\"M0 0h24v24H0V0z\" fill=\"none\"/>\n",
              "    <path d=\"M18.56 5.44l.94 2.06.94-2.06 2.06-.94-2.06-.94-.94-2.06-.94 2.06-2.06.94zm-11 1L8.5 8.5l.94-2.06 2.06-.94-2.06-.94L8.5 2.5l-.94 2.06-2.06.94zm10 10l.94 2.06.94-2.06 2.06-.94-2.06-.94-.94-2.06-.94 2.06-2.06.94z\"/><path d=\"M17.41 7.96l-1.37-1.37c-.4-.4-.92-.59-1.43-.59-.52 0-1.04.2-1.43.59L10.3 9.45l-7.72 7.72c-.78.78-.78 2.05 0 2.83L4 21.41c.39.39.9.59 1.41.59.51 0 1.02-.2 1.41-.59l7.78-7.78 2.81-2.81c.8-.78.8-2.07 0-2.86zM5.41 20L4 18.59l7.72-7.72 1.47 1.35L5.41 20z\"/>\n",
              "  </svg>\n",
              "      </button>\n",
              "      \n",
              "  <style>\n",
              "    .colab-df-container {\n",
              "      display:flex;\n",
              "      flex-wrap:wrap;\n",
              "      gap: 12px;\n",
              "    }\n",
              "\n",
              "    .colab-df-convert {\n",
              "      background-color: #E8F0FE;\n",
              "      border: none;\n",
              "      border-radius: 50%;\n",
              "      cursor: pointer;\n",
              "      display: none;\n",
              "      fill: #1967D2;\n",
              "      height: 32px;\n",
              "      padding: 0 0 0 0;\n",
              "      width: 32px;\n",
              "    }\n",
              "\n",
              "    .colab-df-convert:hover {\n",
              "      background-color: #E2EBFA;\n",
              "      box-shadow: 0px 1px 2px rgba(60, 64, 67, 0.3), 0px 1px 3px 1px rgba(60, 64, 67, 0.15);\n",
              "      fill: #174EA6;\n",
              "    }\n",
              "\n",
              "    [theme=dark] .colab-df-convert {\n",
              "      background-color: #3B4455;\n",
              "      fill: #D2E3FC;\n",
              "    }\n",
              "\n",
              "    [theme=dark] .colab-df-convert:hover {\n",
              "      background-color: #434B5C;\n",
              "      box-shadow: 0px 1px 3px 1px rgba(0, 0, 0, 0.15);\n",
              "      filter: drop-shadow(0px 1px 2px rgba(0, 0, 0, 0.3));\n",
              "      fill: #FFFFFF;\n",
              "    }\n",
              "  </style>\n",
              "\n",
              "      <script>\n",
              "        const buttonEl =\n",
              "          document.querySelector('#df-5acd72dd-b80e-4805-83c6-35526996e44d button.colab-df-convert');\n",
              "        buttonEl.style.display =\n",
              "          google.colab.kernel.accessAllowed ? 'block' : 'none';\n",
              "\n",
              "        async function convertToInteractive(key) {\n",
              "          const element = document.querySelector('#df-5acd72dd-b80e-4805-83c6-35526996e44d');\n",
              "          const dataTable =\n",
              "            await google.colab.kernel.invokeFunction('convertToInteractive',\n",
              "                                                     [key], {});\n",
              "          if (!dataTable) return;\n",
              "\n",
              "          const docLinkHtml = 'Like what you see? Visit the ' +\n",
              "            '<a target=\"_blank\" href=https://colab.research.google.com/notebooks/data_table.ipynb>data table notebook</a>'\n",
              "            + ' to learn more about interactive tables.';\n",
              "          element.innerHTML = '';\n",
              "          dataTable['output_type'] = 'display_data';\n",
              "          await google.colab.output.renderOutput(dataTable, element);\n",
              "          const docLink = document.createElement('div');\n",
              "          docLink.innerHTML = docLinkHtml;\n",
              "          element.appendChild(docLink);\n",
              "        }\n",
              "      </script>\n",
              "    </div>\n",
              "  </div>\n",
              "  "
            ],
            "text/plain": [
              "      id  ...      license\n",
              "0  10595  ...  00000957568\n",
              "1  10990  ...  00001070920\n",
              "2  10993  ...  00000957080\n",
              "3  10995  ...  00000957422\n",
              "4  27262  ...  00000957579\n",
              "5  28186  ...  00000264915\n",
              "6  31155  ...          NaN\n",
              "\n",
              "[7 rows x 18 columns]"
            ]
          },
          "metadata": {},
          "execution_count": 4
        }
      ]
    },
    {
      "cell_type": "markdown",
      "source": [
        "Explicação  do Dataset:\n",
        "\n",
        "* `linha` - Cada linha  se refere às especificações de um registro de imóvel.\n",
        "* `coluna` - é uma informação que define o imóvel.\n",
        "\n",
        "A célula acima nos permite ver as 7 primeiras linhas do dataframe. Logo na primeira linha, perceba que a Emmanouil (`host_name`)  tem um imóvel registrado no bairro (`neighbourhood`) ΑΜΠΕΛΟΚΗΠΟΙ *(Ampelokipi ou Ampelokipoi)*.\n",
        "\n",
        "Ainda observando o imóvel de Emmanouil, o custo para passar a noite (`price`) é de €79 (R$ 498,50). **Será que, para  Atenas, isso é caro ou barato?**\n",
        "\n",
        "Vamos buscar as respostas nos próprios dados!"
      ],
      "metadata": {
        "id": "LlGIH6q5NS7J"
      }
    },
    {
      "cell_type": "code",
      "source": [
        "from forex_python.converter import CurrencyRates\n",
        "c = CurrencyRates()\n",
        "\n",
        "def titulo(txt):\n",
        "    print('-'*len(txt))\n",
        "    print('\\033[34m'+txt+'\\033[0;0m')\n",
        "    print('-'*len(txt))\n",
        "    \n",
        "amount = int(input(\"Insira o valor: \"))\n",
        "from_currency = input(\"Da moeda: \").upper()\n",
        "to_currency = input(\"Para a moeda: \").upper()\n",
        "print(from_currency, \" Para \", to_currency, amount)\n",
        "result = c.convert(from_currency, to_currency, amount)\n",
        "print(result)\n",
        "quantidade_dia = int(input(\"Quantos dias você pretende ficar?\"))\n",
        "print(result*quantidade_dia)"
      ],
      "metadata": {
        "colab": {
          "base_uri": "https://localhost:8080/"
        },
        "id": "qVLLPXqFXwqE",
        "outputId": "bac44357-4f9e-47e5-b4ec-b95513671753"
      },
      "execution_count": null,
      "outputs": [
        {
          "output_type": "stream",
          "name": "stdout",
          "text": [
            "Insira o valor: 100\n",
            "Da moeda: USD\n",
            "Para a moeda: BRL\n",
            "USD  Para  BRL 100\n",
            "565.1970312776109\n",
            "Quantos dias você pretende ficar?10\n",
            "5651.9703127761095\n"
          ]
        }
      ]
    },
    {
      "cell_type": "code",
      "source": [
        ""
      ],
      "metadata": {
        "id": "wsMJ3O85TGnr"
      },
      "execution_count": null,
      "outputs": []
    },
    {
      "cell_type": "markdown",
      "source": [
        "### ***Quantos atributos (variáveis) e quantas entradas o conjunto de dados possui? Quais os tipos das variáveis?***\n"
      ],
      "metadata": {
        "id": "tUEE8rPgMsta"
      }
    },
    {
      "cell_type": "code",
      "source": [
        "# identificar a dimensão do dataset\n",
        "print(\"Entradas:\\t {}\".format(df.shape[0]))\n",
        "print(\"Variáveis:\\t {}\\n\".format(df.shape[1]))\n",
        "\n",
        "# identificar tipo das variáveis\n",
        "df.dtypes"
      ],
      "metadata": {
        "id": "7YL7XBBaM6zJ",
        "colab": {
          "base_uri": "https://localhost:8080/"
        },
        "outputId": "5ff5f6ca-3298-4cd1-fdcc-7dd88ffb29b7"
      },
      "execution_count": null,
      "outputs": [
        {
          "output_type": "stream",
          "name": "stdout",
          "text": [
            "Entradas:\t 9582\n",
            "Variáveis:\t 18\n",
            "\n"
          ]
        },
        {
          "output_type": "execute_result",
          "data": {
            "text/plain": [
              "id                                  int64\n",
              "name                               object\n",
              "host_id                             int64\n",
              "host_name                          object\n",
              "neighbourhood_group               float64\n",
              "neighbourhood                      object\n",
              "latitude                          float64\n",
              "longitude                         float64\n",
              "room_type                          object\n",
              "price                               int64\n",
              "minimum_nights                      int64\n",
              "number_of_reviews                   int64\n",
              "last_review                        object\n",
              "reviews_per_month                 float64\n",
              "calculated_host_listings_count      int64\n",
              "availability_365                    int64\n",
              "number_of_reviews_ltm               int64\n",
              "license                            object\n",
              "dtype: object"
            ]
          },
          "metadata": {},
          "execution_count": 10
        }
      ]
    },
    {
      "cell_type": "code",
      "source": [
        ""
      ],
      "metadata": {
        "id": "XhgR-tvmNAAK"
      },
      "execution_count": null,
      "outputs": []
    },
    {
      "cell_type": "code",
      "source": [
        ""
      ],
      "metadata": {
        "id": "24i6nEtYMDPF"
      },
      "execution_count": null,
      "outputs": []
    },
    {
      "cell_type": "code",
      "source": [
        ""
      ],
      "metadata": {
        "id": "4cvZiJikMDWF"
      },
      "execution_count": null,
      "outputs": []
    },
    {
      "cell_type": "code",
      "source": [
        ""
      ],
      "metadata": {
        "id": "5Onaoh77MDeJ"
      },
      "execution_count": null,
      "outputs": []
    },
    {
      "cell_type": "code",
      "source": [
        ""
      ],
      "metadata": {
        "id": "ONtocYpAMDkl"
      },
      "execution_count": null,
      "outputs": []
    }
  ]
}